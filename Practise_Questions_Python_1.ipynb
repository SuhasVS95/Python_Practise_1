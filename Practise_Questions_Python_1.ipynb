{
 "cells": [
  {
   "cell_type": "markdown",
   "metadata": {},
   "source": [
    "# Q1: Write logic in english format, to swap two variables"
   ]
  },
  {
   "cell_type": "markdown",
   "metadata": {},
   "source": [
    "#Method 1 using temporary varialble"
   ]
  },
  {
   "cell_type": "code",
   "execution_count": 9,
   "metadata": {},
   "outputs": [
    {
     "data": {
      "text/plain": [
       "(23, 15)"
      ]
     },
     "execution_count": 9,
     "metadata": {},
     "output_type": "execute_result"
    }
   ],
   "source": [
    "def swapvariable1(a,b):\n",
    "    c=b\n",
    "    b=a\n",
    "    a=c\n",
    "    \n",
    "    return a,b\n",
    "\n",
    "swapvariable1(15,23)"
   ]
  },
  {
   "cell_type": "code",
   "execution_count": 10,
   "metadata": {},
   "outputs": [
    {
     "data": {
      "text/plain": [
       "(23, 15)"
      ]
     },
     "execution_count": 10,
     "metadata": {},
     "output_type": "execute_result"
    }
   ],
   "source": [
    "def swapvariable2(a,b):\n",
    "    c=a\n",
    "    a=b\n",
    "    b=c\n",
    "    \n",
    "    return a,b\n",
    "\n",
    "swapvariable2(15,23)\n"
   ]
  },
  {
   "cell_type": "markdown",
   "metadata": {},
   "source": [
    "#Method 2 without using temporary varialble"
   ]
  },
  {
   "cell_type": "code",
   "execution_count": 14,
   "metadata": {},
   "outputs": [
    {
     "data": {
      "text/plain": [
       "(23, 15)"
      ]
     },
     "execution_count": 14,
     "metadata": {},
     "output_type": "execute_result"
    }
   ],
   "source": [
    "def swapvariable1(a,b):\n",
    "    \n",
    "    a=a-b\n",
    "    b=a+b\n",
    "    a=a-b\n",
    "    \n",
    "    if a <0:\n",
    "        return -a,b\n",
    "    elif b <0:\n",
    "        return a,-b\n",
    "    \n",
    "    return a,b\n",
    "\n",
    "swapvariable1(15,23)"
   ]
  },
  {
   "cell_type": "markdown",
   "metadata": {},
   "source": [
    "# Q2: Convert FAHRENHEIT to CENTIGRADE. Get the Fahrenheit value from User\n",
    "C = (F-32) * (5/9)\n"
   ]
  },
  {
   "cell_type": "code",
   "execution_count": 25,
   "metadata": {},
   "outputs": [
    {
     "name": "stdout",
     "output_type": "stream",
     "text": [
      "Enter the Fahrenheit 92\n",
      "F to C is 33.333333333333336\n",
      "F to C is done\n"
     ]
    }
   ],
   "source": [
    "def convertFtoC():\n",
    "    \n",
    "    F=float(input(\"Enter the Fahrenheit \"))\n",
    "    c=(F-32)*(5/9)\n",
    "    print(\"F to C is\",c)\n",
    "    print(\"F to C is done\")\n",
    "\n",
    "convertFtoC()"
   ]
  },
  {
   "cell_type": "markdown",
   "metadata": {},
   "source": [
    "# Q3: Get an input from the keyboard , and based on that use keywords like if and else to determine if the given input is equal to “DataScience” and print appropriate messages."
   ]
  },
  {
   "cell_type": "code",
   "execution_count": 32,
   "metadata": {},
   "outputs": [
    {
     "name": "stdout",
     "output_type": "stream",
     "text": [
      "Enter the word: Suhas\n",
      "Given word does not match with the reference word\n",
      "Enter the word: DataScience\n",
      "Given word matches with the reference word\n"
     ]
    }
   ],
   "source": [
    "def checkword():\n",
    "    \n",
    "    for i in range(2):\n",
    "    \n",
    "        F=input(\"Enter the word: \")\n",
    "    \n",
    "        if F==\"DataScience\":\n",
    "            print(\"Given word matches with the reference word\")\n",
    "        else:\n",
    "            print(\"Given word does not match with the reference word\")\n",
    "        \n",
    "    i=i+1\n",
    "\n",
    "checkword()"
   ]
  },
  {
   "cell_type": "markdown",
   "metadata": {},
   "source": [
    "# Q4: Determine if the person is eligible to vote. Print appropriate messages."
   ]
  },
  {
   "cell_type": "code",
   "execution_count": 2,
   "metadata": {},
   "outputs": [
    {
     "name": "stdout",
     "output_type": "stream",
     "text": [
      "Enter the Age:15\n",
      "Can not Vote\n",
      "Enter the Age:23\n",
      "Can Vote\n"
     ]
    }
   ],
   "source": [
    "def vote_eligibility():\n",
    "    i=1\n",
    "    while(i<=2):\n",
    "        inpt=int(input(\"Enter the Age:\"))\n",
    "        if inpt<18:\n",
    "            print(\"Can not Vote\")\n",
    "        else:\n",
    "            print(\"Can Vote\")\n",
    "        i=i+1\n",
    "    \n",
    "x=vote_eligibility()"
   ]
  },
  {
   "cell_type": "markdown",
   "metadata": {},
   "source": [
    "# Q5: Check if a given input number is EVEN or not, and print appropriate messages."
   ]
  },
  {
   "cell_type": "code",
   "execution_count": 7,
   "metadata": {},
   "outputs": [
    {
     "name": "stdout",
     "output_type": "stream",
     "text": [
      "0 Even\n",
      "1 Odd\n",
      "2 Even\n",
      "3 Odd\n",
      "4 Even\n",
      "5 Odd\n",
      "6 Even\n",
      "7 Odd\n",
      "8 Even\n",
      "9 Odd\n"
     ]
    }
   ],
   "source": [
    "def evencheck(*args):\n",
    "    for i in args:\n",
    "        if i%2==0:\n",
    "            print(i,\"Even\")\n",
    "        else:\n",
    "            print(i,\"Odd\")\n",
    "        i=i+1\n",
    "mt=range(10)\n",
    "evencheck(*mt)\n",
    "    "
   ]
  },
  {
   "cell_type": "markdown",
   "metadata": {},
   "source": [
    "# Q6: Assume a container of numbers, write pseudo code to get each number from the container and print its square."
   ]
  },
  {
   "cell_type": "code",
   "execution_count": 19,
   "metadata": {},
   "outputs": [
    {
     "name": "stdout",
     "output_type": "stream",
     "text": [
      "[0, 1, 4, 9, 16, 25, 36, 49, 64, 81, 100, 121, 144, 169, 196, 225, 256, 289, 324, 361]\n"
     ]
    }
   ],
   "source": [
    "cont=range(20)\n",
    "\n",
    "i=0\n",
    "cont2=[]\n",
    "while(i<(len(cont))):\n",
    "    cont2.append(cont[i]**2)\n",
    "    i=i+1\n",
    "print(cont2)\n",
    "    "
   ]
  },
  {
   "cell_type": "markdown",
   "metadata": {},
   "source": [
    "# Q7: Get a series of 10 numbers from the user and print each of them as soon as you receive it."
   ]
  },
  {
   "cell_type": "code",
   "execution_count": 2,
   "metadata": {},
   "outputs": [
    {
     "name": "stdout",
     "output_type": "stream",
     "text": [
      "Enter the number1\n",
      "a2 container\n",
      "['1']\n",
      "Enter the number2\n",
      "a2 container\n",
      "['1', '2']\n",
      "Enter the number3\n",
      "a2 container\n",
      "['1', '2', '3']\n",
      "Enter the number4\n",
      "a2 container\n",
      "['1', '2', '3', '4']\n",
      "Enter the number5\n",
      "a2 container\n",
      "['1', '2', '3', '4', '5']\n",
      "Enter the number7\n",
      "a2 container\n",
      "['1', '2', '3', '4', '5', '7']\n",
      "Enter the number8\n",
      "a2 container\n",
      "['1', '2', '3', '4', '5', '7', '8']\n",
      "Enter the number9\n",
      "a2 container\n",
      "['1', '2', '3', '4', '5', '7', '8', '9']\n",
      "Enter the number9\n",
      "a2 container\n",
      "['1', '2', '3', '4', '5', '7', '8', '9', '9']\n",
      "Enter the number6\n",
      "a2 container\n",
      "['1', '2', '3', '4', '5', '7', '8', '9', '9', '6']\n",
      "Final a2 container\n",
      "['1', '2', '3', '4', '5', '7', '8', '9', '9', '6']\n"
     ]
    }
   ],
   "source": [
    "i=0\n",
    "a2=[]\n",
    "\n",
    "while(i<10):\n",
    "    inp=input(\"Enter the number\")\n",
    "    a2.append(inp)\n",
    "    print(\"a2 container\")\n",
    "    print(a2)\n",
    "    i=i+1\n",
    "print(\"Final a2 container\")    \n",
    "print(a2)"
   ]
  },
  {
   "cell_type": "markdown",
   "metadata": {},
   "source": [
    "# Q8: Print multiplication tables of any user input number from 1 to 10"
   ]
  },
  {
   "cell_type": "code",
   "execution_count": 5,
   "metadata": {},
   "outputs": [
    {
     "name": "stdout",
     "output_type": "stream",
     "text": [
      "Enter the number for the table9\n",
      "Enter the number for the iteration10\n",
      "9 * 1 = 9\n",
      "9 * 2 = 18\n",
      "9 * 3 = 27\n",
      "9 * 4 = 36\n",
      "9 * 5 = 45\n",
      "9 * 6 = 54\n",
      "9 * 7 = 63\n",
      "9 * 8 = 72\n",
      "9 * 9 = 81\n",
      "9 * 10 = 90\n"
     ]
    }
   ],
   "source": [
    "def multipliactiontable():\n",
    "    a=int(input(\"Enter the number for the table\"))\n",
    "    b=int(input(\"Enter the number for the iteration\"))\n",
    "    i=1\n",
    "    while(i<=b):\n",
    "        print(a,\"*\",i,\"=\",a*i)\n",
    "        i=i+1\n",
    "        \n",
    "multipliactiontable()"
   ]
  },
  {
   "cell_type": "markdown",
   "metadata": {},
   "source": [
    "# Q9: Write Program to evaluate below situation "
   ]
  },
  {
   "cell_type": "markdown",
   "metadata": {},
   "source": [
    "• We have a loud talking parrot.\n",
    "• The \"hour\" parameter is the current hour time in the range 0..23.\n",
    "• The ‘talking’ parameter indicates if Parrot is talking or not.\n",
    "• We are in trouble if the parrot is talking and the hour is before 7 or after 20.\n",
    "• If we are in Trouble then Return True else return False\n",
    "• Write the required function."
   ]
  },
  {
   "cell_type": "code",
   "execution_count": 22,
   "metadata": {},
   "outputs": [
    {
     "name": "stdout",
     "output_type": "stream",
     "text": [
      "Enter the hour:6\n",
      "Enter TRUE/FALSE:False\n",
      "We are not in Trouble return False\n",
      "Enter the hour:8\n",
      "Enter TRUE/FALSE:True\n",
      "We are not in Trouble return False\n",
      "Enter the hour:6\n",
      "Enter TRUE/FALSE:True\n",
      "We are in Trouble return True\n",
      "Enter the hour:23\n",
      "Enter TRUE/FALSE:True\n",
      "We are in Trouble return True\n",
      "Enter the hour:20\n",
      "Enter TRUE/FALSE:False\n",
      "We are not in Trouble return False\n"
     ]
    }
   ],
   "source": [
    "def loudtalkingparrot():\n",
    "    for i in range(5):\n",
    "        hour=int(input(\"Enter the hour:\"))\n",
    "        talking=input(\"Enter TRUE/FALSE:\")\n",
    "        if (hour<7 or hour>20) and (talking=='True'):\n",
    "            print(\"We are in Trouble return True\")\n",
    "            #return True\n",
    "        else:\n",
    "            print(\"We are not in Trouble return False\")\n",
    "            #return False\n",
    "    i=i+1\n",
    "loudtalkingparrot()      "
   ]
  },
  {
   "cell_type": "markdown",
   "metadata": {},
   "source": [
    "# Q10: Outline a program that will prompt a user to enter a temperature as an integer. Your program will print: "
   ]
  },
  {
   "cell_type": "markdown",
   "metadata": {},
   "source": [
    "a) \"it is hot\" is the temperature is over 100,\n",
    "b) \"it is cold\" if the temperature is under 60, and\n",
    "c) \"it is just right\" if the temperature is between 61 and 99 inclusive. "
   ]
  },
  {
   "cell_type": "code",
   "execution_count": 1,
   "metadata": {},
   "outputs": [
    {
     "name": "stdout",
     "output_type": "stream",
     "text": [
      "Enter the temperaure:65\n",
      "It is just Right\n",
      "Enter the temperaure:1000\n",
      "It is Hot\n",
      "Enter the temperaure:65\n",
      "It is just Right\n"
     ]
    }
   ],
   "source": [
    "def temperaturecheck():\n",
    "    s=1\n",
    "    while(s<4):\n",
    "        \n",
    "        i=int(input(\"Enter the temperaure:\"))\n",
    "    \n",
    "        if i>100:\n",
    "            print(\"It is Hot\")\n",
    "        elif i<60:\n",
    "            print(\"It is Cold\")\n",
    "        elif i>61 and i<=99:\n",
    "            print(\"It is just Right\")\n",
    "        s=s+1\n",
    "temperaturecheck()"
   ]
  },
  {
   "cell_type": "markdown",
   "metadata": {},
   "source": [
    "# Q11: Create a program which will ask for your recent exam score out of 100. a) The program should print what grade you got and how many more marks you would have needed to get the next possible higher grade."
   ]
  },
  {
   "cell_type": "markdown",
   "metadata": {},
   "source": [
    "# b) Grade Boundaries:\n",
    " >=70 “Distinction”\n",
    " >=60 <70 “First Class”\n",
    " >=50 < 60 “Second Class”\n",
    " >=35 <50 “Pass Class”\n",
    " <35 “Fail”.\n",
    "c) Test the program for all possible conditions at least once."
   ]
  },
  {
   "cell_type": "code",
   "execution_count": 2,
   "metadata": {},
   "outputs": [
    {
     "name": "stdout",
     "output_type": "stream",
     "text": [
      "Enter the marks 34\n",
      "Valid Score\n",
      "You have failed. You need 1 marks to pass\n"
     ]
    }
   ],
   "source": [
    "def mark_s():\n",
    "\n",
    "\n",
    "    score=int(input(\"Enter the marks \"))\n",
    "\n",
    "    if score>100:\n",
    "        print(\"Invalid Score entered, Please enter number between 0 and 100\")\n",
    "    else:\n",
    "        print(\"Valid Score\")\n",
    "    \n",
    "    if score <35:\n",
    "        passneeded=35-score\n",
    "        print(\"You have failed. You need {} marks to pass\".format(passneeded))\n",
    "\n",
    "    elif score>=35 and score<50:\n",
    "        secondclasspassneeded=50-score\n",
    "        print(\"You have managed to pass. You need {} marks to get into second class. Work HARDER.\".format(secondclasspassneeded))\n",
    "\n",
    "    elif score>=50 and score<60:\n",
    "        firstclasspassneeded=60-score\n",
    "        print(\"You have secured SECOND class. You need {} marks to get into First class. Work HARD.\".format(firstclasspassneeded))\n",
    "    \n",
    "    elif score>=60 and score<70:\n",
    "        Distinctionclasspass=70-score\n",
    "        print(\"You have secured FIRST class. You need {} marks to get into Distinction class. Push a bit harder.\".format(Distinctionclasspass))\n",
    "    \n",
    "    elif score>=70:\n",
    "        if score==100:\n",
    "            print(\"Congratutalations!!! You have secured 100/100. Keep It UP!!!\")\n",
    "        else:\n",
    "            Tofullmarks=100-score\n",
    "            print(\"Congratutalations!!! You have secured DISTINCTION class. You need {} marks to get 100/100.\".format(Tofullmarks))\n",
    "        \n",
    "mark_s()"
   ]
  },
  {
   "cell_type": "markdown",
   "metadata": {},
   "source": [
    "# Q12: Accept date in DD/MM/YYYY format, as a string.\n",
    "a) Write two functions to convert it to:\n",
    " MM/DD/YYYY string format\n",
    " YYYY/MM/DD string format.\n",
    " And print the new date"
   ]
  },
  {
   "cell_type": "code",
   "execution_count": 4,
   "metadata": {},
   "outputs": [
    {
     "name": "stdout",
     "output_type": "stream",
     "text": [
      "Enter the date stringSuhas\n",
      "sahuS\n"
     ]
    }
   ],
   "source": [
    "def reversestring():#reversing the string\n",
    "    re=\"\"\n",
    "    i=input(\"Enter the date string\")\n",
    "    k=1\n",
    "    while(k<=len(i)):\n",
    "        j=len(i)-k\n",
    "        re=re+i[j]\n",
    "        k=k+1\n",
    "    print(re)\n",
    "\n",
    "reversestring()    "
   ]
  },
  {
   "cell_type": "code",
   "execution_count": 7,
   "metadata": {},
   "outputs": [
    {
     "name": "stdout",
     "output_type": "stream",
     "text": [
      "Date25\n",
      "Month07\n",
      "Year2020\n",
      "The reverse of  25/07/2020 is 2020/07/25\n"
     ]
    }
   ],
   "source": [
    "def funrev():\n",
    " a=input(\"Date\")\n",
    " b=input(\"Month\")\n",
    " c=input(\"Year\")\n",
    " a1=\"/\"\n",
    " d= a+a1+b+a1+c   \n",
    " reverse=c+a1+b+a1+a\n",
    " print(\"The reverse of \", d, \"is\" ,reverse)\n",
    " return reverse\n",
    "\n",
    "x= funrev()\n"
   ]
  },
  {
   "cell_type": "markdown",
   "metadata": {},
   "source": [
    "# Q13: Create a program that will allow the user to enter a line/quote. a) Output this quote in uppercase, lowercase, capitalize and title formats.\n"
   ]
  },
  {
   "cell_type": "code",
   "execution_count": 12,
   "metadata": {},
   "outputs": [
    {
     "name": "stdout",
     "output_type": "stream",
     "text": [
      "MTECH IN DATA SCIENCE IN MACHINELEARING\n",
      "mtech in data science in machinelearing\n",
      "Mtech in data science in machinelearing\n",
      "Mtech In Data Science In Machinelearing\n"
     ]
    }
   ],
   "source": [
    "a=\"MTech in DATA Science in MACHINElearing\"\n",
    "b=a.upper();print(b)\n",
    "c=a.lower();print(c)\n",
    "d=a.capitalize();print(d)\n",
    "e=a.title();print(e)"
   ]
  },
  {
   "cell_type": "markdown",
   "metadata": {},
   "source": [
    "# Q14: Write a function called countUp that accepts two integer parameters. a) The function will print out all integers between the two parameters (excluding both parameters!), from lower parameter to higher parameter in ascending order. "
   ]
  },
  {
   "cell_type": "code",
   "execution_count": 3,
   "metadata": {},
   "outputs": [
    {
     "name": "stdout",
     "output_type": "stream",
     "text": [
      "Enter the lowest parameter:4\n",
      "Enter the highest parameter:14\n",
      "[5, 6, 7, 8, 9, 10, 11, 12, 13]\n"
     ]
    }
   ],
   "source": [
    "def countUp():\n",
    "    a=int(input(\"Enter the lowest parameter:\"))\n",
    "    b=int(input(\"Enter the highest parameter:\"))\n",
    "    j=a+1\n",
    " \n",
    "    cont=[]\n",
    "    while(j<b):\n",
    "        cont.append(j)\n",
    "        j=j+1\n",
    "    print(cont)\n",
    "    \n",
    "countUp()\n"
   ]
  }
 ],
 "metadata": {
  "kernelspec": {
   "display_name": "Python 3",
   "language": "python",
   "name": "python3"
  },
  "language_info": {
   "codemirror_mode": {
    "name": "ipython",
    "version": 3
   },
   "file_extension": ".py",
   "mimetype": "text/x-python",
   "name": "python",
   "nbconvert_exporter": "python",
   "pygments_lexer": "ipython3",
   "version": "3.7.6"
  }
 },
 "nbformat": 4,
 "nbformat_minor": 4
}
